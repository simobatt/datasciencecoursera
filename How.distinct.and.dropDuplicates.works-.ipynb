{
 "cells": [
  {
   "cell_type": "code",
   "execution_count": 1,
   "metadata": {
    "collapsed": false
   },
   "outputs": [],
   "source": [
    "import os\n",
    "os.environ['PYSPARK_PYTHON'] = 'python2'\n",
    "from pyspark import SparkContext\n",
    "sc = SparkContext('local[4]')"
   ]
  },
  {
   "cell_type": "code",
   "execution_count": 24,
   "metadata": {
    "collapsed": false
   },
   "outputs": [],
   "source": [
    "from pyspark import SQLContext, Row\n",
    "sqlCtx = SQLContext(sc)\n",
    "myKeyValue = [(1,'Alice'),(2,'Bob'),(3,'Charlie'),(3,'Chuck'),(1,'Alice')]\n",
    "rdd = sc.parallelize(myKeyValue)#.map(lambda x: Row(x))"
   ]
  },
  {
   "cell_type": "code",
   "execution_count": 30,
   "metadata": {
    "collapsed": false
   },
   "outputs": [],
   "source": [
    "from pyspark.sql.types import *\n",
    "fields = [StructField('Key',IntegerType(),True),StructField('Value',StringType(),True)]\n",
    "schema = StructType(fields)\n",
    "df = sqlCtx.createDataFrame(rdd, schema)"
   ]
  },
  {
   "cell_type": "code",
   "execution_count": 31,
   "metadata": {
    "collapsed": false
   },
   "outputs": [
    {
     "name": "stdout",
     "output_type": "stream",
     "text": [
      "+---+-------+\n",
      "|Key|  Value|\n",
      "+---+-------+\n",
      "|  1|  Alice|\n",
      "|  2|    Bob|\n",
      "|  3|Charlie|\n",
      "|  3|  Chuck|\n",
      "|  1|  Alice|\n",
      "+---+-------+\n",
      "\n"
     ]
    }
   ],
   "source": [
    "df.show()"
   ]
  },
  {
   "cell_type": "code",
   "execution_count": 32,
   "metadata": {
    "collapsed": false
   },
   "outputs": [
    {
     "name": "stdout",
     "output_type": "stream",
     "text": [
      "== Parsed Logical Plan ==\n",
      "LogicalRDD [Key#3,Value#4], MapPartitionsRDD[44] at applySchemaToPythonRDD at NativeMethodAccessorImpl.java:-2\n",
      "\n",
      "== Analyzed Logical Plan ==\n",
      "Key: int, Value: string\n",
      "LogicalRDD [Key#3,Value#4], MapPartitionsRDD[44] at applySchemaToPythonRDD at NativeMethodAccessorImpl.java:-2\n",
      "\n",
      "== Optimized Logical Plan ==\n",
      "LogicalRDD [Key#3,Value#4], MapPartitionsRDD[44] at applySchemaToPythonRDD at NativeMethodAccessorImpl.java:-2\n",
      "\n",
      "== Physical Plan ==\n",
      "Scan PhysicalRDD[Key#3,Value#4]\n",
      "\n",
      "Code Generation: true\n"
     ]
    }
   ],
   "source": [
    "df.explain(extended=True)"
   ]
  },
  {
   "cell_type": "code",
   "execution_count": 33,
   "metadata": {
    "collapsed": false
   },
   "outputs": [
    {
     "name": "stdout",
     "output_type": "stream",
     "text": [
      "== Parsed Logical Plan ==\n",
      "Aggregate [Key#3,Value#4], [Key#3,Value#4]\n",
      " LogicalRDD [Key#3,Value#4], MapPartitionsRDD[44] at applySchemaToPythonRDD at NativeMethodAccessorImpl.java:-2\n",
      "\n",
      "== Analyzed Logical Plan ==\n",
      "Key: int, Value: string\n",
      "Aggregate [Key#3,Value#4], [Key#3,Value#4]\n",
      " LogicalRDD [Key#3,Value#4], MapPartitionsRDD[44] at applySchemaToPythonRDD at NativeMethodAccessorImpl.java:-2\n",
      "\n",
      "== Optimized Logical Plan ==\n",
      "Aggregate [Key#3,Value#4], [Key#3,Value#4]\n",
      " LogicalRDD [Key#3,Value#4], MapPartitionsRDD[44] at applySchemaToPythonRDD at NativeMethodAccessorImpl.java:-2\n",
      "\n",
      "== Physical Plan ==\n",
      "TungstenAggregate(key=[Key#3,Value#4], functions=[], output=[Key#3,Value#4])\n",
      " TungstenExchange hashpartitioning(Key#3,Value#4)\n",
      "  TungstenAggregate(key=[Key#3,Value#4], functions=[], output=[Key#3,Value#4])\n",
      "   Scan PhysicalRDD[Key#3,Value#4]\n",
      "\n",
      "Code Generation: true\n"
     ]
    }
   ],
   "source": [
    "df_distinct = df.distinct()\n",
    "df_distinct.explain(extended=True)"
   ]
  },
  {
   "cell_type": "code",
   "execution_count": 36,
   "metadata": {
    "collapsed": false
   },
   "outputs": [
    {
     "name": "stdout",
     "output_type": "stream",
     "text": [
      "+---+-------+\n",
      "|Key|  Value|\n",
      "+---+-------+\n",
      "|  1|  Alice|\n",
      "|  3|Charlie|\n",
      "|  2|    Bob|\n",
      "|  3|  Chuck|\n",
      "+---+-------+\n",
      "\n"
     ]
    }
   ],
   "source": [
    "df_distinct.show()"
   ]
  },
  {
   "cell_type": "code",
   "execution_count": 37,
   "metadata": {
    "collapsed": false
   },
   "outputs": [
    {
     "name": "stdout",
     "output_type": "stream",
     "text": [
      "== Parsed Logical Plan ==\n",
      "Aggregate [Key#3], [Key#3,FIRST(Value#4) AS Value#10]\n",
      " LogicalRDD [Key#3,Value#4], MapPartitionsRDD[44] at applySchemaToPythonRDD at NativeMethodAccessorImpl.java:-2\n",
      "\n",
      "== Analyzed Logical Plan ==\n",
      "Key: int, Value: string\n",
      "Aggregate [Key#3], [Key#3,FIRST(Value#4) AS Value#10]\n",
      " LogicalRDD [Key#3,Value#4], MapPartitionsRDD[44] at applySchemaToPythonRDD at NativeMethodAccessorImpl.java:-2\n",
      "\n",
      "== Optimized Logical Plan ==\n",
      "Aggregate [Key#3], [Key#3,FIRST(Value#4) AS Value#10]\n",
      " LogicalRDD [Key#3,Value#4], MapPartitionsRDD[44] at applySchemaToPythonRDD at NativeMethodAccessorImpl.java:-2\n",
      "\n",
      "== Physical Plan ==\n",
      "SortBasedAggregate(key=[Key#3], functions=[(first(Value#4),mode=Final,isDistinct=false)], output=[Key#3,Value#10])\n",
      " ConvertToSafe\n",
      "  TungstenSort [Key#3 ASC], false, 0\n",
      "   TungstenExchange hashpartitioning(Key#3)\n",
      "    ConvertToUnsafe\n",
      "     SortBasedAggregate(key=[Key#3], functions=[(first(Value#4),mode=Partial,isDistinct=false)], output=[Key#3,first#13])\n",
      "      ConvertToSafe\n",
      "       TungstenSort [Key#3 ASC], false, 0\n",
      "        ConvertToUnsafe\n",
      "         Scan PhysicalRDD[Key#3,Value#4]\n",
      "\n",
      "Code Generation: true\n"
     ]
    }
   ],
   "source": [
    "df_duplicates_dropped = df.dropDuplicates(['Key'])\n",
    "df_duplicates_dropped.explain(extended=True)"
   ]
  },
  {
   "cell_type": "code",
   "execution_count": 38,
   "metadata": {
    "collapsed": false
   },
   "outputs": [
    {
     "name": "stdout",
     "output_type": "stream",
     "text": [
      "+---+-------+\n",
      "|Key|  Value|\n",
      "+---+-------+\n",
      "|  1|  Alice|\n",
      "|  2|    Bob|\n",
      "|  3|Charlie|\n",
      "+---+-------+\n",
      "\n"
     ]
    }
   ],
   "source": [
    "df_duplicates_dropped.show()"
   ]
  },
  {
   "cell_type": "code",
   "execution_count": null,
   "metadata": {
    "collapsed": false
   },
   "outputs": [],
   "source": [
    "sc.stop()"
   ]
  },
  {
   "cell_type": "code",
   "execution_count": null,
   "metadata": {
    "collapsed": true
   },
   "outputs": [],
   "source": []
  }
 ],
 "metadata": {
  "kernelspec": {
   "display_name": "Python 2",
   "language": "python",
   "name": "python2"
  },
  "language_info": {
   "codemirror_mode": {
    "name": "ipython",
    "version": 2
   },
   "file_extension": ".py",
   "mimetype": "text/x-python",
   "name": "python",
   "nbconvert_exporter": "python",
   "pygments_lexer": "ipython2",
   "version": "2.7.11"
  }
 },
 "nbformat": 4,
 "nbformat_minor": 0
}
